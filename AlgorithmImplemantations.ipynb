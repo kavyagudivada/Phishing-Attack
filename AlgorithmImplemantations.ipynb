{
 "cells": [
  {
   "cell_type": "code",
   "execution_count": 1,
   "metadata": {},
   "outputs": [],
   "source": [
    "import pandas as pd\n",
    "import numpy as np\n",
    "from IPython.display import HTML\n",
    "\n",
    "import warnings \n",
    "warnings.filterwarnings('ignore')"
   ]
  },
  {
   "cell_type": "code",
   "execution_count": 2,
   "metadata": {},
   "outputs": [
    {
     "data": {
      "text/html": [
       "<script>\n",
       "function code_toggle() {\n",
       " if (code_show){\n",
       " $('div.input').hide('500');\n",
       " $('div.prompt').hide();\n",
       " } else {\n",
       " $('div.input').show('500');\n",
       " $('div.prompt').show();\n",
       " }\n",
       " code_show = !code_show\n",
       "} \n",
       "$( document ).ready(function(){\n",
       "    code_show=true;\n",
       "    $('div.input').show()\n",
       "    $('div.prompt').show();\n",
       "  });\n",
       "</script>\n",
       "<font size=\"4\" color='red'>The raw code for this IPython notebook is by default hidden for easier reading.\n",
       "To toggle on/off the raw code, click <a href=\"javascript:code_toggle()\">here</a>.</font>"
      ],
      "text/plain": [
       "<IPython.core.display.HTML object>"
      ]
     },
     "execution_count": 2,
     "metadata": {},
     "output_type": "execute_result"
    }
   ],
   "source": [
    "HTML('''<script>\n",
    "function code_toggle() {\n",
    " if (code_show){\n",
    " $('div.input').hide('500');\n",
    " $('div.prompt').hide();\n",
    " } else {\n",
    " $('div.input').show('500');\n",
    " $('div.prompt').show();\n",
    " }\n",
    " code_show = !code_show\n",
    "} \n",
    "$( document ).ready(function(){\n",
    "    code_show=true;\n",
    "    $('div.input').show()\n",
    "    $('div.prompt').show();\n",
    "  });\n",
    "</script>\n",
    "<font size=\"4\" color='red'>The raw code for this IPython notebook is by default hidden for easier reading.\n",
    "To toggle on/off the raw code, click <a href=\"javascript:code_toggle()\">here</a>.</font>''')"
   ]
  },
  {
   "cell_type": "markdown",
   "metadata": {},
   "source": [
    "## Collection of Data"
   ]
  },
  {
   "cell_type": "code",
   "execution_count": 3,
   "metadata": {},
   "outputs": [],
   "source": [
    "legitimate_urls = pd.read_csv(\"extracted_csv_files/legitimate-urls.csv\")\n",
    "phishing_urls = pd.read_csv(\"extracted_csv_files/phishing-urls.csv\")\n",
    "realtime=pd.read_csv(\"extracted_csv_files/real-time.csv\")"
   ]
  },
  {
   "cell_type": "code",
   "execution_count": 4,
   "metadata": {},
   "outputs": [
    {
     "data": {
      "text/html": [
       "<div>\n",
       "<style scoped>\n",
       "    .dataframe tbody tr th:only-of-type {\n",
       "        vertical-align: middle;\n",
       "    }\n",
       "\n",
       "    .dataframe tbody tr th {\n",
       "        vertical-align: top;\n",
       "    }\n",
       "\n",
       "    .dataframe thead th {\n",
       "        text-align: right;\n",
       "    }\n",
       "</style>\n",
       "<table border=\"1\" class=\"dataframe\">\n",
       "  <thead>\n",
       "    <tr style=\"text-align: right;\">\n",
       "      <th></th>\n",
       "      <th>Domain</th>\n",
       "      <th>Having_@_symbol</th>\n",
       "      <th>Having_IP</th>\n",
       "      <th>Path</th>\n",
       "      <th>Prefix_suffix_separation</th>\n",
       "      <th>Protocol</th>\n",
       "      <th>Redirection_//_symbol</th>\n",
       "      <th>Sub_domains</th>\n",
       "      <th>URL_Length</th>\n",
       "      <th>age_domain</th>\n",
       "      <th>dns_record</th>\n",
       "      <th>domain_registration_length</th>\n",
       "      <th>http_tokens</th>\n",
       "      <th>label</th>\n",
       "      <th>statistical_report</th>\n",
       "      <th>tiny_url</th>\n",
       "      <th>web_traffic</th>\n",
       "    </tr>\n",
       "  </thead>\n",
       "  <tbody>\n",
       "    <tr>\n",
       "      <th>0</th>\n",
       "      <td>123movieonlinez.in.websiteoutlook.com</td>\n",
       "      <td>0</td>\n",
       "      <td>0</td>\n",
       "      <td>/</td>\n",
       "      <td>0</td>\n",
       "      <td>http</td>\n",
       "      <td>0</td>\n",
       "      <td>2</td>\n",
       "      <td>0</td>\n",
       "      <td>1</td>\n",
       "      <td>1</td>\n",
       "      <td>1</td>\n",
       "      <td>0</td>\n",
       "      <td>1</td>\n",
       "      <td>0</td>\n",
       "      <td>0</td>\n",
       "      <td>0</td>\n",
       "    </tr>\n",
       "    <tr>\n",
       "      <th>1</th>\n",
       "      <td>allmarketing.go2cloud.org</td>\n",
       "      <td>0</td>\n",
       "      <td>0</td>\n",
       "      <td>/aff_c</td>\n",
       "      <td>0</td>\n",
       "      <td>http</td>\n",
       "      <td>0</td>\n",
       "      <td>0</td>\n",
       "      <td>2</td>\n",
       "      <td>1</td>\n",
       "      <td>1</td>\n",
       "      <td>1</td>\n",
       "      <td>0</td>\n",
       "      <td>1</td>\n",
       "      <td>0</td>\n",
       "      <td>0</td>\n",
       "      <td>0</td>\n",
       "    </tr>\n",
       "    <tr>\n",
       "      <th>2</th>\n",
       "      <td>constintptr.com</td>\n",
       "      <td>0</td>\n",
       "      <td>0</td>\n",
       "      <td>/1675303/</td>\n",
       "      <td>0</td>\n",
       "      <td>http</td>\n",
       "      <td>0</td>\n",
       "      <td>0</td>\n",
       "      <td>0</td>\n",
       "      <td>1</td>\n",
       "      <td>1</td>\n",
       "      <td>1</td>\n",
       "      <td>0</td>\n",
       "      <td>1</td>\n",
       "      <td>0</td>\n",
       "      <td>0</td>\n",
       "      <td>0</td>\n",
       "    </tr>\n",
       "    <tr>\n",
       "      <th>3</th>\n",
       "      <td>constintptr.com</td>\n",
       "      <td>0</td>\n",
       "      <td>0</td>\n",
       "      <td>/</td>\n",
       "      <td>0</td>\n",
       "      <td>http</td>\n",
       "      <td>0</td>\n",
       "      <td>0</td>\n",
       "      <td>0</td>\n",
       "      <td>1</td>\n",
       "      <td>1</td>\n",
       "      <td>1</td>\n",
       "      <td>0</td>\n",
       "      <td>1</td>\n",
       "      <td>0</td>\n",
       "      <td>0</td>\n",
       "      <td>0</td>\n",
       "    </tr>\n",
       "    <tr>\n",
       "      <th>4</th>\n",
       "      <td>constintptr.com</td>\n",
       "      <td>0</td>\n",
       "      <td>0</td>\n",
       "      <td>/afu.php</td>\n",
       "      <td>0</td>\n",
       "      <td>http</td>\n",
       "      <td>0</td>\n",
       "      <td>0</td>\n",
       "      <td>1</td>\n",
       "      <td>1</td>\n",
       "      <td>1</td>\n",
       "      <td>1</td>\n",
       "      <td>0</td>\n",
       "      <td>1</td>\n",
       "      <td>0</td>\n",
       "      <td>0</td>\n",
       "      <td>0</td>\n",
       "    </tr>\n",
       "  </tbody>\n",
       "</table>\n",
       "</div>"
      ],
      "text/plain": [
       "                                  Domain  Having_@_symbol  Having_IP  \\\n",
       "0  123movieonlinez.in.websiteoutlook.com                0          0   \n",
       "1              allmarketing.go2cloud.org                0          0   \n",
       "2                        constintptr.com                0          0   \n",
       "3                        constintptr.com                0          0   \n",
       "4                        constintptr.com                0          0   \n",
       "\n",
       "        Path  Prefix_suffix_separation Protocol  Redirection_//_symbol  \\\n",
       "0          /                         0     http                      0   \n",
       "1     /aff_c                         0     http                      0   \n",
       "2  /1675303/                         0     http                      0   \n",
       "3          /                         0     http                      0   \n",
       "4   /afu.php                         0     http                      0   \n",
       "\n",
       "   Sub_domains  URL_Length  age_domain  dns_record  \\\n",
       "0            2           0           1           1   \n",
       "1            0           2           1           1   \n",
       "2            0           0           1           1   \n",
       "3            0           0           1           1   \n",
       "4            0           1           1           1   \n",
       "\n",
       "   domain_registration_length  http_tokens  label  statistical_report  \\\n",
       "0                           1            0      1                   0   \n",
       "1                           1            0      1                   0   \n",
       "2                           1            0      1                   0   \n",
       "3                           1            0      1                   0   \n",
       "4                           1            0      1                   0   \n",
       "\n",
       "   tiny_url  web_traffic  \n",
       "0         0            0  \n",
       "1         0            0  \n",
       "2         0            0  \n",
       "3         0            0  \n",
       "4         0            0  "
      ]
     },
     "execution_count": 4,
     "metadata": {},
     "output_type": "execute_result"
    }
   ],
   "source": [
    "legitimate_urls.head(10)\n",
    "phishing_urls.head(10)\n",
    "realtime.head(5)"
   ]
  },
  {
   "cell_type": "markdown",
   "metadata": {},
   "source": [
    "## Data PreProcessing\n",
    "#### Data is in two data frames so we merge them to make one dataframe\n",
    "Note: two dataframes has same column names"
   ]
  },
  {
   "cell_type": "code",
   "execution_count": 5,
   "metadata": {},
   "outputs": [],
   "source": [
    "urls = legitimate_urls.append(phishing_urls)\n"
   ]
  },
  {
   "cell_type": "code",
   "execution_count": 6,
   "metadata": {},
   "outputs": [
    {
     "data": {
      "text/html": [
       "<div>\n",
       "<style scoped>\n",
       "    .dataframe tbody tr th:only-of-type {\n",
       "        vertical-align: middle;\n",
       "    }\n",
       "\n",
       "    .dataframe tbody tr th {\n",
       "        vertical-align: top;\n",
       "    }\n",
       "\n",
       "    .dataframe thead th {\n",
       "        text-align: right;\n",
       "    }\n",
       "</style>\n",
       "<table border=\"1\" class=\"dataframe\">\n",
       "  <thead>\n",
       "    <tr style=\"text-align: right;\">\n",
       "      <th></th>\n",
       "      <th>Domain</th>\n",
       "      <th>Having_@_symbol</th>\n",
       "      <th>Having_IP</th>\n",
       "      <th>Path</th>\n",
       "      <th>Prefix_suffix_separation</th>\n",
       "      <th>Protocol</th>\n",
       "      <th>Redirection_//_symbol</th>\n",
       "      <th>Sub_domains</th>\n",
       "      <th>URL_Length</th>\n",
       "      <th>age_domain</th>\n",
       "      <th>dns_record</th>\n",
       "      <th>domain_registration_length</th>\n",
       "      <th>http_tokens</th>\n",
       "      <th>label</th>\n",
       "      <th>statistical_report</th>\n",
       "      <th>tiny_url</th>\n",
       "      <th>web_traffic</th>\n",
       "    </tr>\n",
       "  </thead>\n",
       "  <tbody>\n",
       "    <tr>\n",
       "      <th>0</th>\n",
       "      <td>www.liquidgeneration.com</td>\n",
       "      <td>0</td>\n",
       "      <td>0</td>\n",
       "      <td>/</td>\n",
       "      <td>0</td>\n",
       "      <td>http</td>\n",
       "      <td>0</td>\n",
       "      <td>0</td>\n",
       "      <td>0</td>\n",
       "      <td>1</td>\n",
       "      <td>1</td>\n",
       "      <td>1</td>\n",
       "      <td>0</td>\n",
       "      <td>0</td>\n",
       "      <td>0</td>\n",
       "      <td>0</td>\n",
       "      <td>2</td>\n",
       "    </tr>\n",
       "    <tr>\n",
       "      <th>1</th>\n",
       "      <td>www.onlineanime.org</td>\n",
       "      <td>0</td>\n",
       "      <td>0</td>\n",
       "      <td>/</td>\n",
       "      <td>0</td>\n",
       "      <td>http</td>\n",
       "      <td>0</td>\n",
       "      <td>0</td>\n",
       "      <td>0</td>\n",
       "      <td>1</td>\n",
       "      <td>1</td>\n",
       "      <td>1</td>\n",
       "      <td>0</td>\n",
       "      <td>0</td>\n",
       "      <td>1</td>\n",
       "      <td>0</td>\n",
       "      <td>1</td>\n",
       "    </tr>\n",
       "    <tr>\n",
       "      <th>2</th>\n",
       "      <td>www.ceres.dti.ne.jp</td>\n",
       "      <td>0</td>\n",
       "      <td>0</td>\n",
       "      <td>/~nekoi/senno/senfirst.html</td>\n",
       "      <td>0</td>\n",
       "      <td>http</td>\n",
       "      <td>0</td>\n",
       "      <td>1</td>\n",
       "      <td>0</td>\n",
       "      <td>1</td>\n",
       "      <td>1</td>\n",
       "      <td>1</td>\n",
       "      <td>0</td>\n",
       "      <td>0</td>\n",
       "      <td>0</td>\n",
       "      <td>0</td>\n",
       "      <td>0</td>\n",
       "    </tr>\n",
       "    <tr>\n",
       "      <th>3</th>\n",
       "      <td>www.galeon.com</td>\n",
       "      <td>0</td>\n",
       "      <td>0</td>\n",
       "      <td>/kmh/</td>\n",
       "      <td>0</td>\n",
       "      <td>http</td>\n",
       "      <td>0</td>\n",
       "      <td>0</td>\n",
       "      <td>0</td>\n",
       "      <td>1</td>\n",
       "      <td>1</td>\n",
       "      <td>1</td>\n",
       "      <td>0</td>\n",
       "      <td>0</td>\n",
       "      <td>0</td>\n",
       "      <td>0</td>\n",
       "      <td>0</td>\n",
       "    </tr>\n",
       "    <tr>\n",
       "      <th>4</th>\n",
       "      <td>www.fanworkrecs.com</td>\n",
       "      <td>0</td>\n",
       "      <td>0</td>\n",
       "      <td>/</td>\n",
       "      <td>0</td>\n",
       "      <td>http</td>\n",
       "      <td>0</td>\n",
       "      <td>0</td>\n",
       "      <td>0</td>\n",
       "      <td>1</td>\n",
       "      <td>1</td>\n",
       "      <td>1</td>\n",
       "      <td>0</td>\n",
       "      <td>0</td>\n",
       "      <td>0</td>\n",
       "      <td>0</td>\n",
       "      <td>1</td>\n",
       "    </tr>\n",
       "  </tbody>\n",
       "</table>\n",
       "</div>"
      ],
      "text/plain": [
       "                     Domain  Having_@_symbol  Having_IP  \\\n",
       "0  www.liquidgeneration.com                0          0   \n",
       "1       www.onlineanime.org                0          0   \n",
       "2       www.ceres.dti.ne.jp                0          0   \n",
       "3            www.galeon.com                0          0   \n",
       "4       www.fanworkrecs.com                0          0   \n",
       "\n",
       "                          Path  Prefix_suffix_separation Protocol  \\\n",
       "0                            /                         0     http   \n",
       "1                            /                         0     http   \n",
       "2  /~nekoi/senno/senfirst.html                         0     http   \n",
       "3                        /kmh/                         0     http   \n",
       "4                            /                         0     http   \n",
       "\n",
       "   Redirection_//_symbol  Sub_domains  URL_Length  age_domain  dns_record  \\\n",
       "0                      0            0           0           1           1   \n",
       "1                      0            0           0           1           1   \n",
       "2                      0            1           0           1           1   \n",
       "3                      0            0           0           1           1   \n",
       "4                      0            0           0           1           1   \n",
       "\n",
       "   domain_registration_length  http_tokens  label  statistical_report  \\\n",
       "0                           1            0      0                   0   \n",
       "1                           1            0      0                   1   \n",
       "2                           1            0      0                   0   \n",
       "3                           1            0      0                   0   \n",
       "4                           1            0      0                   0   \n",
       "\n",
       "   tiny_url  web_traffic  \n",
       "0         0            2  \n",
       "1         0            1  \n",
       "2         0            0  \n",
       "3         0            0  \n",
       "4         0            1  "
      ]
     },
     "execution_count": 6,
     "metadata": {},
     "output_type": "execute_result"
    }
   ],
   "source": [
    "urls.head(5)"
   ]
  },
  {
   "cell_type": "code",
   "execution_count": 7,
   "metadata": {},
   "outputs": [
    {
     "data": {
      "text/plain": [
       "Index(['Domain', 'Having_@_symbol', 'Having_IP', 'Path',\n",
       "       'Prefix_suffix_separation', 'Protocol', 'Redirection_//_symbol',\n",
       "       'Sub_domains', 'URL_Length', 'age_domain', 'dns_record',\n",
       "       'domain_registration_length', 'http_tokens', 'label',\n",
       "       'statistical_report', 'tiny_url', 'web_traffic'],\n",
       "      dtype='object')"
      ]
     },
     "execution_count": 7,
     "metadata": {},
     "output_type": "execute_result"
    }
   ],
   "source": [
    "urls.columns"
   ]
  },
  {
   "cell_type": "markdown",
   "metadata": {},
   "source": [
    "#### Removing Unnecessary columns"
   ]
  },
  {
   "cell_type": "code",
   "execution_count": 8,
   "metadata": {},
   "outputs": [],
   "source": [
    "urls = urls.drop(urls.columns[[0,3,5]],axis=1)\n",
    "realtime = realtime.drop(realtime.columns[[0,3,5]],axis=1)"
   ]
  },
  {
   "cell_type": "code",
   "execution_count": 9,
   "metadata": {},
   "outputs": [
    {
     "data": {
      "text/html": [
       "<div>\n",
       "<style scoped>\n",
       "    .dataframe tbody tr th:only-of-type {\n",
       "        vertical-align: middle;\n",
       "    }\n",
       "\n",
       "    .dataframe tbody tr th {\n",
       "        vertical-align: top;\n",
       "    }\n",
       "\n",
       "    .dataframe thead th {\n",
       "        text-align: right;\n",
       "    }\n",
       "</style>\n",
       "<table border=\"1\" class=\"dataframe\">\n",
       "  <thead>\n",
       "    <tr style=\"text-align: right;\">\n",
       "      <th></th>\n",
       "      <th>Having_@_symbol</th>\n",
       "      <th>Having_IP</th>\n",
       "      <th>Prefix_suffix_separation</th>\n",
       "      <th>Redirection_//_symbol</th>\n",
       "      <th>Sub_domains</th>\n",
       "      <th>URL_Length</th>\n",
       "      <th>age_domain</th>\n",
       "      <th>dns_record</th>\n",
       "      <th>domain_registration_length</th>\n",
       "      <th>http_tokens</th>\n",
       "      <th>label</th>\n",
       "      <th>statistical_report</th>\n",
       "      <th>tiny_url</th>\n",
       "      <th>web_traffic</th>\n",
       "    </tr>\n",
       "  </thead>\n",
       "  <tbody>\n",
       "    <tr>\n",
       "      <th>0</th>\n",
       "      <td>0</td>\n",
       "      <td>0</td>\n",
       "      <td>0</td>\n",
       "      <td>0</td>\n",
       "      <td>0</td>\n",
       "      <td>0</td>\n",
       "      <td>1</td>\n",
       "      <td>1</td>\n",
       "      <td>1</td>\n",
       "      <td>0</td>\n",
       "      <td>0</td>\n",
       "      <td>0</td>\n",
       "      <td>0</td>\n",
       "      <td>2</td>\n",
       "    </tr>\n",
       "    <tr>\n",
       "      <th>1</th>\n",
       "      <td>0</td>\n",
       "      <td>0</td>\n",
       "      <td>0</td>\n",
       "      <td>0</td>\n",
       "      <td>0</td>\n",
       "      <td>0</td>\n",
       "      <td>1</td>\n",
       "      <td>1</td>\n",
       "      <td>1</td>\n",
       "      <td>0</td>\n",
       "      <td>0</td>\n",
       "      <td>1</td>\n",
       "      <td>0</td>\n",
       "      <td>1</td>\n",
       "    </tr>\n",
       "    <tr>\n",
       "      <th>2</th>\n",
       "      <td>0</td>\n",
       "      <td>0</td>\n",
       "      <td>0</td>\n",
       "      <td>0</td>\n",
       "      <td>1</td>\n",
       "      <td>0</td>\n",
       "      <td>1</td>\n",
       "      <td>1</td>\n",
       "      <td>1</td>\n",
       "      <td>0</td>\n",
       "      <td>0</td>\n",
       "      <td>0</td>\n",
       "      <td>0</td>\n",
       "      <td>0</td>\n",
       "    </tr>\n",
       "    <tr>\n",
       "      <th>3</th>\n",
       "      <td>0</td>\n",
       "      <td>0</td>\n",
       "      <td>0</td>\n",
       "      <td>0</td>\n",
       "      <td>0</td>\n",
       "      <td>0</td>\n",
       "      <td>1</td>\n",
       "      <td>1</td>\n",
       "      <td>1</td>\n",
       "      <td>0</td>\n",
       "      <td>0</td>\n",
       "      <td>0</td>\n",
       "      <td>0</td>\n",
       "      <td>0</td>\n",
       "    </tr>\n",
       "    <tr>\n",
       "      <th>4</th>\n",
       "      <td>0</td>\n",
       "      <td>0</td>\n",
       "      <td>0</td>\n",
       "      <td>0</td>\n",
       "      <td>0</td>\n",
       "      <td>0</td>\n",
       "      <td>1</td>\n",
       "      <td>1</td>\n",
       "      <td>1</td>\n",
       "      <td>0</td>\n",
       "      <td>0</td>\n",
       "      <td>0</td>\n",
       "      <td>0</td>\n",
       "      <td>1</td>\n",
       "    </tr>\n",
       "  </tbody>\n",
       "</table>\n",
       "</div>"
      ],
      "text/plain": [
       "   Having_@_symbol  Having_IP  Prefix_suffix_separation  \\\n",
       "0                0          0                         0   \n",
       "1                0          0                         0   \n",
       "2                0          0                         0   \n",
       "3                0          0                         0   \n",
       "4                0          0                         0   \n",
       "\n",
       "   Redirection_//_symbol  Sub_domains  URL_Length  age_domain  dns_record  \\\n",
       "0                      0            0           0           1           1   \n",
       "1                      0            0           0           1           1   \n",
       "2                      0            1           0           1           1   \n",
       "3                      0            0           0           1           1   \n",
       "4                      0            0           0           1           1   \n",
       "\n",
       "   domain_registration_length  http_tokens  label  statistical_report  \\\n",
       "0                           1            0      0                   0   \n",
       "1                           1            0      0                   1   \n",
       "2                           1            0      0                   0   \n",
       "3                           1            0      0                   0   \n",
       "4                           1            0      0                   0   \n",
       "\n",
       "   tiny_url  web_traffic  \n",
       "0         0            2  \n",
       "1         0            1  \n",
       "2         0            0  \n",
       "3         0            0  \n",
       "4         0            1  "
      ]
     },
     "execution_count": 9,
     "metadata": {},
     "output_type": "execute_result"
    }
   ],
   "source": [
    "urls.head(5)"
   ]
  },
  {
   "cell_type": "markdown",
   "metadata": {},
   "source": [
    "#### Since we merged two dataframes top 1000 rows will have legitimate urls and bottom 1000 rows will have phishing urls. So if we split the data now and create a model for it will overfit so we need to shuffle the rows before splitting the data into training set and test set"
   ]
  },
  {
   "cell_type": "code",
   "execution_count": 10,
   "metadata": {},
   "outputs": [],
   "source": [
    "# shuffling the rows in the dataset so that when splitting the train and test set are equally distributed\n",
    "urls = urls.sample(frac=1).reset_index(drop=True)"
   ]
  },
  {
   "cell_type": "markdown",
   "metadata": {},
   "source": [
    "#### Removing class variable from the dataset"
   ]
  },
  {
   "cell_type": "code",
   "execution_count": 11,
   "metadata": {},
   "outputs": [],
   "source": [
    "urls_without_labels = urls.drop('label',axis=1)\n",
    "urls_without_labels.columns\n",
    "labels = urls['label']\n",
    "\n",
    "real_without_labels = realtime.drop('label',axis=1)\n",
    "real_without_labels.columns\n",
    "r_labels = realtime['label']\n"
   ]
  },
  {
   "cell_type": "markdown",
   "metadata": {},
   "source": [
    "#### splitting the data into train data and test data"
   ]
  },
  {
   "cell_type": "code",
   "execution_count": 12,
   "metadata": {},
   "outputs": [],
   "source": [
    "from sklearn.model_selection import train_test_split\n",
    "data_train, data_test, labels_train, labels_test = train_test_split(urls_without_labels, labels, test_size=0.1, random_state=100)\n",
    "real_data_train, real_data_test, real_labels_train, real_labels_test = train_test_split(real_without_labels, r_labels, test_size=0.90, random_state=100)"
   ]
  },
  {
   "cell_type": "code",
   "execution_count": 13,
   "metadata": {},
   "outputs": [
    {
     "name": "stdout",
     "output_type": "stream",
     "text": [
      "1828 204 1828 204\n"
     ]
    }
   ],
   "source": [
    "print(len(data_train),len(data_test),len(labels_train),len(labels_test))"
   ]
  },
  {
   "cell_type": "code",
   "execution_count": 14,
   "metadata": {},
   "outputs": [
    {
     "data": {
      "text/plain": [
       "0    936\n",
       "1    892\n",
       "Name: label, dtype: int64"
      ]
     },
     "execution_count": 14,
     "metadata": {},
     "output_type": "execute_result"
    }
   ],
   "source": [
    "labels_train.value_counts()\n",
    "\n",
    "#labels_train[labels_train == 0].count()\n",
    "#labels_train[labels_train == 1].count()"
   ]
  },
  {
   "cell_type": "code",
   "execution_count": 15,
   "metadata": {},
   "outputs": [
    {
     "data": {
      "text/plain": [
       "1    106\n",
       "0     98\n",
       "Name: label, dtype: int64"
      ]
     },
     "execution_count": 15,
     "metadata": {},
     "output_type": "execute_result"
    }
   ],
   "source": [
    "labels_test.value_counts()"
   ]
  },
  {
   "cell_type": "markdown",
   "metadata": {},
   "source": [
    "#### creating the model and fitting the data into the model"
   ]
  },
  {
   "cell_type": "markdown",
   "metadata": {},
   "source": [
    "# DECISION TREE CLASSIFIER"
   ]
  },
  {
   "cell_type": "code",
   "execution_count": 16,
   "metadata": {},
   "outputs": [
    {
     "name": "stdout",
     "output_type": "stream",
     "text": [
      "STATIC TESTING DATASET:\n",
      "[1 0 1 1 1 0 1 1 1 1 1 0 0 0 1 0 1 0 1 0 0 1 1 1 0 1 0 1 0 1 1 0 1 0 0 0 0\n",
      " 1 0 1 0 1 1 0 1 0 0 1 0 1 1 1 1 1 0 0 1 0 1 1 0 1 1 1 0 0 1 0 1 0 0 1 0 1\n",
      " 1 1 1 0 0 0 1 0 1 1 0 0 0 0 1 0 1 0 0 1 1 1 0 0 1 0 1 0 1 0 0 0 0 1 1 0 0\n",
      " 0 1 0 1 0 1 1 0 1 0 1 1 0 1 1 1 1 0 1 1 0 1 0 0 0 0 0 1 1 0 1 0 1 1 0 1 1\n",
      " 0 1 1 1 0 1 0 1 1 1 1 1 1 0 1 1 0 1 0 0 0 0 1 1 0 1 0 1 0 1 1 1 0 1 0 1 1\n",
      " 0 0 0 0 1 1 0 1 1 0 0 0 1 0 0 1 0 0 0]\n",
      "REAL TIME DATASET:\n",
      "[0 0 0 0 0 1 0 0 0 1 0 0 0 0 0 0 0 0 0 0 0 0 0 1 0 0 0 0 1 0 0 0 0 0 0 0 0\n",
      " 0 0 0 0 0 0 0 0 0 0 0 0 0 0 0 0 1 1 0 0 0 0 0 0 0 0 0 0 0 0 0 0 0 0 0 0 0\n",
      " 0 0 0 1 0 0 0 0 0 0 0 1 0 0 0 0 0 0 0 0 0 0 0 0 1 1 0 0 0 0 0 0 0 0 0 0 0\n",
      " 0 0 0 0 0 0 0 1 0 0 0 0 0 0 0 0 0 0 0 0 0 0 1 0 0 0 1 0 0 0 0 0 0 0 0 0 0\n",
      " 0 0 0 0 1 0 0 0 0 0 0 0 0 0 0 0 0 0 0 0 0 0 0 0 0 0 0 0 0 0 0 0 0 0 0 0 1\n",
      " 0 0 0 0 0 0 0 1 0 0 0 0 0 0 0 1 0 0 0 0 0 0 0 0 0 0 0 0 1 0 1 0 0 1 0 0 0\n",
      " 0 0 0 0 0 0 1 0 0 0 1 0 0 0 0 0 0 0 0 0 0 0 0 0 0 0 1 0 1 0 0 1 0 0 0 0 0\n",
      " 1 0 0 1 0 0 0 0 0 0 0 0 0 0 0 0 0 0 0 0 0 0 0 0 0 1 0 1 0 0 0 0 0 0 0 0 0\n",
      " 0 0 0 0 0 0 0 0 1 1 1 0 0 0 0 0 0 0 0 0 0 0 0 0 0 0 0 0 0]\n"
     ]
    }
   ],
   "source": [
    "from sklearn.tree import DecisionTreeClassifier\n",
    "\n",
    "model = DecisionTreeClassifier()\n",
    "model.fit(data_train,labels_train)\n",
    "\n",
    "pred_label_test = model.predict(data_test)\n",
    "pred_label_train = model.predict(data_train)\n",
    "real_pred_label=model.predict(real_data_test)\n",
    "\n",
    "#print(\"STATIC TRAINING DATASET:\")\n",
    "#print(pred_label_train)\n",
    "\n",
    "print(\"STATIC TESTING DATASET:\")\n",
    "print(pred_label_test)\n",
    "\n",
    "print(\"REAL TIME DATASET:\")\n",
    "print(real_pred_label)"
   ]
  },
  {
   "cell_type": "code",
   "execution_count": 17,
   "metadata": {},
   "outputs": [],
   "source": [
    "#print(pred_label),print(list(labels_test))"
   ]
  },
  {
   "cell_type": "markdown",
   "metadata": {},
   "source": [
    "# RANDOM FOREST CLASSIFIER"
   ]
  },
  {
   "cell_type": "code",
   "execution_count": 20,
   "metadata": {},
   "outputs": [
    {
     "name": "stdout",
     "output_type": "stream",
     "text": [
      "STATIC TESTING DATASET:\n",
      "[1 0 1 1 1 0 1 1 1 1 1 0 0 0 1 0 1 0 1 0 0 1 1 1 0 1 0 1 0 1 1 0 1 0 0 0 0\n",
      " 1 0 1 0 1 1 0 1 0 0 1 0 1 1 1 1 1 0 0 1 0 1 1 0 1 1 1 0 0 1 0 1 0 0 1 0 1\n",
      " 1 1 1 0 0 0 1 0 1 1 0 0 0 0 1 0 1 0 0 1 1 1 0 0 1 0 1 0 1 0 0 0 0 1 1 0 0\n",
      " 0 1 0 1 0 1 1 0 1 0 1 1 0 1 1 1 1 0 1 1 0 1 0 0 0 0 0 1 1 0 1 0 1 1 0 1 1\n",
      " 0 1 1 1 0 1 0 1 1 1 1 1 1 0 1 1 0 1 0 0 0 0 1 1 0 1 0 1 0 1 1 1 0 1 0 1 1\n",
      " 0 0 0 0 1 1 0 1 1 0 0 0 1 0 0 1 0 0 0]\n",
      "REAL TIME DATASET:\n",
      "[0 0 0 0 0 1 0 0 0 0 0 0 0 0 0 0 0 0 0 0 0 0 0 0 0 0 0 0 0 0 0 0 0 0 0 0 0\n",
      " 0 0 0 0 0 0 0 0 0 0 0 0 0 0 0 0 1 1 0 0 0 0 0 0 0 0 0 0 0 0 0 0 0 0 0 0 0\n",
      " 0 0 0 1 0 0 0 0 0 0 0 1 0 0 0 0 0 0 0 0 0 0 0 0 1 1 0 0 0 0 0 0 0 0 0 0 0\n",
      " 0 0 0 0 0 0 0 1 0 0 0 0 0 0 0 0 0 0 0 0 0 0 1 0 0 0 1 0 0 0 0 0 0 0 0 0 0\n",
      " 0 0 0 0 1 0 0 0 0 0 0 0 0 0 0 0 0 0 0 0 0 0 0 0 0 0 0 0 0 0 0 0 0 0 0 0 1\n",
      " 0 0 0 0 0 0 0 1 0 0 0 0 0 0 0 0 0 0 0 0 0 0 0 0 0 0 0 0 1 0 1 0 0 1 0 0 0\n",
      " 0 0 0 0 0 0 1 0 0 0 1 0 0 0 0 0 0 0 0 0 0 0 0 0 0 0 0 0 0 0 0 1 0 0 0 0 0\n",
      " 1 0 0 1 0 0 0 0 0 0 0 0 0 0 0 0 0 0 0 0 0 0 0 0 0 1 0 0 0 0 0 0 0 0 0 0 0\n",
      " 0 0 0 0 0 0 0 0 1 1 1 0 0 0 0 0 0 0 0 0 0 0 0 0 0 0 0 0 0]\n"
     ]
    }
   ],
   "source": [
    "from sklearn.ensemble import RandomForestClassifier\n",
    "\n",
    "random_forest_classifier = RandomForestClassifier()\n",
    "#RandomForestClassifier(n_estimators=5000, max_depth=350, max_leaf_nodes=12000)\n",
    "#RandomForestClassifier()\n",
    "random_forest_classifier.fit(data_train,labels_train)\n",
    "\n",
    "prediction_label_test = random_forest_classifier.predict(data_test)\n",
    "prediction_label_train = random_forest_classifier.predict(data_train)\n",
    "real_pred_label_r=random_forest_classifier.predict(real_data_test)\n",
    "\n",
    "#print(\"STATIC TRAINING DATASET:\")\n",
    "#print(prediction_label_train)\n",
    "\n",
    "print(\"STATIC TESTING DATASET:\")\n",
    "print(prediction_label_test)\n",
    "\n",
    "print(\"REAL TIME DATASET:\")\n",
    "print(real_pred_label_r)"
   ]
  },
  {
   "cell_type": "markdown",
   "metadata": {},
   "source": [
    "# LOGISTIC REGRESSION"
   ]
  },
  {
   "cell_type": "code",
   "execution_count": 21,
   "metadata": {},
   "outputs": [
    {
     "name": "stdout",
     "output_type": "stream",
     "text": [
      "STATIC TESTING DATASET:\n",
      "[1 0 1 1 1 0 1 1 1 1 1 0 0 0 1 0 1 0 1 0 0 1 1 1 0 1 0 1 0 1 1 0 1 0 1 0 0\n",
      " 1 0 1 0 1 1 0 1 1 0 1 0 1 1 1 1 1 0 0 1 0 1 1 0 1 1 1 0 0 1 0 1 0 0 1 0 1\n",
      " 1 1 1 0 0 0 1 0 1 1 0 0 0 0 1 0 1 0 0 1 1 1 0 0 1 0 1 0 1 0 0 0 1 1 1 0 0\n",
      " 0 1 0 1 0 1 1 0 1 0 1 1 0 1 1 1 1 0 1 1 0 1 0 0 0 0 0 1 1 0 1 0 1 1 0 1 1\n",
      " 0 1 1 1 1 1 0 1 1 1 1 1 1 0 1 1 0 1 0 0 0 0 1 1 0 1 0 1 0 1 1 1 0 1 0 1 1\n",
      " 0 0 0 0 1 1 0 1 1 0 0 0 1 0 0 1 0 0 0]\n",
      "REAL TIME DATASET:\n",
      "[0 0 0 0 0 1 0 0 0 0 0 0 0 0 0 0 0 0 0 0 0 0 0 1 0 0 0 0 0 0 0 0 0 0 0 0 0\n",
      " 0 0 0 0 0 0 0 0 0 0 0 0 0 0 0 0 1 1 0 0 0 0 0 0 0 0 0 0 0 0 0 0 0 0 0 0 0\n",
      " 0 0 0 1 0 0 0 0 0 0 0 1 0 0 0 0 0 0 0 0 0 0 0 0 1 1 0 0 0 0 0 0 0 0 0 0 0\n",
      " 0 0 0 0 0 0 0 1 0 0 0 0 0 0 0 0 0 0 0 0 0 0 1 0 0 0 0 0 0 0 0 0 0 0 0 0 0\n",
      " 0 0 0 0 1 0 0 0 0 0 0 0 0 0 0 0 0 0 0 0 0 0 0 0 0 0 0 0 0 0 0 0 0 0 0 0 1\n",
      " 0 0 0 0 0 0 0 1 0 0 0 0 0 0 0 1 0 0 0 0 0 0 0 0 0 0 0 0 1 0 1 0 0 1 0 0 0\n",
      " 0 0 0 0 0 0 1 0 0 0 0 0 0 0 0 0 0 0 0 0 0 0 0 0 0 0 1 0 0 0 0 1 0 0 0 0 0\n",
      " 1 0 0 0 0 0 0 0 0 0 0 0 0 0 0 0 0 0 0 0 0 0 0 0 0 0 0 0 0 0 0 0 0 0 0 0 0\n",
      " 0 0 0 0 0 0 0 0 0 1 1 0 0 0 0 0 0 0 0 0 0 0 0 0 0 0 0 0 0]\n"
     ]
    }
   ],
   "source": [
    "from sklearn.linear_model import LogisticRegression\n",
    "lr = LogisticRegression()\n",
    "lr.fit(data_train,labels_train)\n",
    "\n",
    "lr_pred_test=lr.predict(data_test)\n",
    "lr_pred_train=lr.predict(data_train)\n",
    "lr_pred_real=lr.predict(real_data_test)\n",
    "\n",
    "#print(\"STATIC TRAINING DATASET:\")\n",
    "#print(lr_pred_train)\n",
    "\n",
    "print(\"STATIC TESTING DATASET:\")\n",
    "print(lr_pred_test)\n",
    "\n",
    "print(\"REAL TIME DATASET:\")\n",
    "print(lr_pred_real)"
   ]
  },
  {
   "cell_type": "markdown",
   "metadata": {},
   "source": [
    "#### use 'custom_random_forest_classifier = RandomForestClassifier(n_estimators=10000, max_depth=40, max_leaf_nodes=20000)' or by changing the parameters for noticing how the accuracy changes."
   ]
  },
  {
   "cell_type": "code",
   "execution_count": 22,
   "metadata": {},
   "outputs": [],
   "source": [
    "#-----import matplotlib.pyplot as plt\n",
    "#-----import numpy as np\n",
    "\n",
    "#feature_importances_ : array of shape = [n_features] ------ The feature importances (the higher, the more important the feature).\n",
    "\n",
    "#feature_importances_  -- This method returns the quantified relative importance in the order the features were fed to the algorithm\n",
    "\n",
    "#-----importances = random_forest_classifier.feature_importances_\n",
    "\n",
    "#std = np.std([tree.feature_importances_ for tree in custom_random_forest_classifier.estimators_],axis=0)   #[[[estimators_ :explaination ---  list of DecisionTreeClassifier ----- (The collection of fitted sub-estimators.)]]]\n",
    "\n",
    "#To make the plot pretty, we’ll instead sort the features from most to least important.\n",
    "#-----indices = np.argsort(importances)[::-1] \n",
    "#-----print(f\"indices of columns : {indices}\")\n",
    "\n",
    "# Print the feature ranking\n",
    "#-----print(\"\\n ***Feature ranking: *** \\n\")\n",
    "#-----print(\"Feature name : Importance\")\n",
    "\n",
    "#-----for f in range(data_train.shape[1]):\n",
    "    #-----print(f\"{f+1} {data_train.columns[indices[f]]}   :  {importances[indices[f]]} \\n\")\n",
    "    \n",
    "#-----print(\"**** The blue bars are the feature importances of the randomforest classifier, along with their inter-trees variability*****\")\n",
    "\n",
    "# Plot the feature importances of the forest\n",
    "#-----plt.figure()\n",
    "#-----plt.title(\"Feature importances\")\n",
    "#-----plt.bar(range(data_train.shape[1]), importances[indices],\n",
    "       #-----color=\"b\", align=\"center\")   \n",
    "#yerr=std[indices] -- this is another parameter that can be included if std is calculated above\n",
    "#and also it gives error bar that's the reason we calculate std above. but here we are not making it plot.\n",
    "\n",
    "#-----plt.xticks(range(data_train.shape[1]), data_train.columns[indices])\n",
    "#-----plt.xlim([-1, data_train.shape[1]])\n",
    "\n",
    "#-----plt.rcParams['figure.figsize'] = (450,150)  #this will increase the size of the plot\n",
    "#-----plt.show()"
   ]
  },
  {
   "cell_type": "markdown",
   "metadata": {},
   "source": [
    "# NAIVE BAYES CLASSIFIER"
   ]
  },
  {
   "cell_type": "code",
   "execution_count": 23,
   "metadata": {},
   "outputs": [
    {
     "name": "stdout",
     "output_type": "stream",
     "text": [
      "STATIC TESTING DATASET:\n",
      "[1 0 1 1 1 0 1 1 1 1 1 0 0 0 1 0 0 0 1 0 0 1 0 1 0 1 0 1 0 1 1 0 1 0 0 0 0\n",
      " 1 0 0 0 0 1 0 1 0 0 1 0 0 0 1 1 1 0 0 1 0 1 1 0 0 0 0 0 0 0 0 0 0 0 1 0 0\n",
      " 0 1 1 0 0 0 1 0 0 0 0 0 0 0 0 0 0 0 0 1 1 1 0 0 1 0 1 0 0 0 0 0 0 1 1 0 0\n",
      " 0 1 0 0 0 0 0 0 0 0 1 0 0 1 1 1 0 0 0 0 0 1 0 0 0 0 0 1 1 0 1 0 1 0 0 1 1\n",
      " 0 1 0 1 0 0 0 1 0 0 1 0 1 0 0 1 0 0 0 0 0 0 1 1 0 1 0 1 0 0 0 1 0 0 0 1 1\n",
      " 0 0 0 0 1 0 0 1 1 0 0 0 1 0 0 0 0 0 0]\n",
      "REAL TIME DATASET:\n",
      "[0 0 0 1 0 0 1 0 0 0 1 1 0 0 0 1 0 0 0 0 0 1 1 0 0 0 0 0 1 0 0 0 0 0 0 1 1\n",
      " 1 0 0 1 0 0 0 1 0 0 0 0 0 0 0 1 0 0 0 0 1 1 0 0 0 0 0 0 0 1 0 1 0 0 1 0 0\n",
      " 1 0 0 0 0 1 0 0 0 0 0 0 0 0 0 0 0 0 0 0 1 0 0 0 0 0 0 0 0 0 0 1 0 1 0 0 0\n",
      " 0 0 1 0 1 0 0 0 0 0 0 0 1 1 0 1 0 0 0 0 0 0 0 0 0 0 0 1 1 1 1 0 0 0 0 0 1\n",
      " 0 0 0 0 0 0 0 0 0 1 1 0 0 0 0 1 1 0 1 0 1 0 0 1 1 0 0 0 0 0 0 0 0 1 0 0 0\n",
      " 0 0 1 1 0 1 0 0 0 1 0 0 0 1 0 0 0 0 0 1 0 0 0 0 0 0 0 0 0 0 0 1 0 0 0 0 0\n",
      " 0 1 0 0 0 0 0 1 0 1 0 0 0 0 0 1 0 0 0 1 1 0 0 0 0 0 0 0 0 0 0 0 0 0 1 1 1\n",
      " 0 1 0 0 0 1 0 1 0 1 0 0 0 0 0 0 0 0 1 1 0 0 0 1 1 0 1 1 0 0 0 0 0 0 1 0 0\n",
      " 0 1 0 0 0 0 0 1 0 0 0 1 0 1 0 0 0 0 1 0 1 0 0 0 0 0 1 1 0]\n"
     ]
    }
   ],
   "source": [
    "from sklearn.naive_bayes import GaussianNB\n",
    "nv = GaussianNB()\n",
    "\n",
    "nv.fit(data_train,labels_train)\n",
    "\n",
    "nv_pred_test=nv.predict(data_test)\n",
    "nv_pred_train=nv.predict(data_train)\n",
    "nv_pred_real=nv.predict(real_data_test)\n",
    "\n",
    "#print(\"STATIC TRAINING DATASET:\")\n",
    "#print(nv_pred_train)\n",
    "\n",
    "print(\"STATIC TESTING DATASET:\")\n",
    "print(nv_pred_test)\n",
    "\n",
    "print(\"REAL TIME DATASET:\")\n",
    "print(nv_pred_real)"
   ]
  },
  {
   "cell_type": "markdown",
   "metadata": {},
   "source": [
    "# Creating confusion matrix and checking the accuracy"
   ]
  },
  {
   "cell_type": "markdown",
   "metadata": {},
   "source": [
    "#### DECISION TREE "
   ]
  },
  {
   "cell_type": "code",
   "execution_count": 24,
   "metadata": {},
   "outputs": [
    {
     "ename": "ModuleNotFoundError",
     "evalue": "No module named 'mlxtend'",
     "output_type": "error",
     "traceback": [
      "\u001b[1;31m---------------------------------------------------------------------------\u001b[0m",
      "\u001b[1;31mModuleNotFoundError\u001b[0m                       Traceback (most recent call last)",
      "\u001b[1;32m<ipython-input-24-01adff97b145>\u001b[0m in \u001b[0;36m<module>\u001b[1;34m()\u001b[0m\n\u001b[0;32m      1\u001b[0m \u001b[1;32mimport\u001b[0m \u001b[0mmatplotlib\u001b[0m\u001b[1;33m.\u001b[0m\u001b[0mpyplot\u001b[0m \u001b[1;32mas\u001b[0m \u001b[0mplt\u001b[0m\u001b[1;33m\u001b[0m\u001b[0m\n\u001b[0;32m      2\u001b[0m \u001b[1;32mfrom\u001b[0m \u001b[0msklearn\u001b[0m\u001b[1;33m.\u001b[0m\u001b[0mmetrics\u001b[0m \u001b[1;32mimport\u001b[0m \u001b[0mconfusion_matrix\u001b[0m\u001b[1;33m,\u001b[0m\u001b[0maccuracy_score\u001b[0m\u001b[1;33m,\u001b[0m\u001b[0mclassification_report\u001b[0m\u001b[1;33m\u001b[0m\u001b[0m\n\u001b[1;32m----> 3\u001b[1;33m \u001b[1;32mfrom\u001b[0m \u001b[0mmlxtend\u001b[0m\u001b[1;33m.\u001b[0m\u001b[0mplotting\u001b[0m \u001b[1;32mimport\u001b[0m \u001b[0mplot_confusion_matrix\u001b[0m\u001b[1;33m\u001b[0m\u001b[0m\n\u001b[0m\u001b[0;32m      4\u001b[0m \u001b[1;33m\u001b[0m\u001b[0m\n\u001b[0;32m      5\u001b[0m \u001b[0mcm\u001b[0m \u001b[1;33m=\u001b[0m \u001b[0mconfusion_matrix\u001b[0m\u001b[1;33m(\u001b[0m\u001b[0mlabels_test\u001b[0m\u001b[1;33m,\u001b[0m\u001b[0mpred_label_test\u001b[0m\u001b[1;33m)\u001b[0m\u001b[1;33m\u001b[0m\u001b[0m\n",
      "\u001b[1;31mModuleNotFoundError\u001b[0m: No module named 'mlxtend'"
     ]
    }
   ],
   "source": [
    "import matplotlib.pyplot as plt\n",
    "from sklearn.metrics import confusion_matrix,accuracy_score,classification_report\n",
    "from mlxtend.plotting import plot_confusion_matrix\n",
    "\n",
    "cm = confusion_matrix(labels_test,pred_label_test)\n",
    "cm2 = confusion_matrix(labels_train,pred_label_train)\n",
    "\n",
    "cr=classification_report(labels_test,pred_label_test)\n",
    "cr2=classification_report(labels_train,pred_label_train)\n",
    "\n",
    "#print(cm)\n",
    "#print(cm2) \n",
    "\n",
    "#print(\"Decision Tree Training\")\n",
    "#dt_train_score=accuracy_score(labels_train,pred_label_train)\n",
    "#print(dt_train_score)\n",
    "#fig2, ax2 = plot_confusion_matrix(cm2 ,  figsize=(10, 5))\n",
    "#plt.show()\n",
    "#print(cr2)\n",
    "\n",
    "print(\"Decision Tree Testing\")\n",
    "dt_test_score=accuracy_score(labels_test,pred_label_test)\n",
    "print(dt_test_score)\n",
    "fig, ax = plot_confusion_matrix(cm,  figsize=(10, 5))\n",
    "plt.show()\n",
    "print(cr)"
   ]
  },
  {
   "cell_type": "markdown",
   "metadata": {},
   "source": [
    "#### RANDOM FOREST "
   ]
  },
  {
   "cell_type": "code",
   "execution_count": 23,
   "metadata": {},
   "outputs": [
    {
     "name": "stdout",
     "output_type": "stream",
     "text": [
      "Random Forest Testing\n",
      "0.9607843137254902\n"
     ]
    },
    {
     "data": {
      "image/png": "[encoded data removed]",
      "text/plain": [
       "<Figure size 720x360 with 1 Axes>"
      ]
     },
     "metadata": {
      "needs_background": "light"
     },
     "output_type": "display_data"
    },
    {
     "name": "stdout",
     "output_type": "stream",
     "text": [
      "              precision    recall  f1-score   support\n",
      "\n",
      "           0       0.95      0.97      0.96        98\n",
      "           1       0.97      0.95      0.96       106\n",
      "\n",
      "   micro avg       0.96      0.96      0.96       204\n",
      "   macro avg       0.96      0.96      0.96       204\n",
      "weighted avg       0.96      0.96      0.96       204\n",
      "\n"
     ]
    }
   ],
   "source": [
    "import matplotlib.pyplot as plt\n",
    "from sklearn.metrics import confusion_matrix,accuracy_score,classification_report\n",
    "from mlxtend.plotting import plot_confusion_matrix\n",
    "\n",
    "cm_rf = confusion_matrix(labels_test,prediction_label_test)\n",
    "cm2_rf = confusion_matrix(labels_train,prediction_label_train)\n",
    "\n",
    "cr_rf=classification_report(labels_test,prediction_label_test)\n",
    "cr2_rf=classification_report(labels_train,prediction_label_train)\n",
    "\n",
    "#print(cm)\n",
    "#print(cm2)\n",
    "\n",
    "#print(\"Random Forest Training\")\n",
    "#rf_train_score=accuracy_score(labels_train,prediction_label_train)\n",
    "#print(rf_train_score)\n",
    "#fig2_rf, ax2_rf = plot_confusion_matrix(cm2_rf ,  figsize=(10, 5))\n",
    "#plt.show()\n",
    "#print(cr2_rf)\n",
    "\n",
    "print(\"Random Forest Testing\")\n",
    "rf_test_score=accuracy_score(labels_test,prediction_label_test)\n",
    "print(rf_test_score)\n",
    "fig_rf, ax_rf = plot_confusion_matrix(cm_rf,  figsize=(10, 5))\n",
    "plt.show()\n",
    "print(cr_rf)"
   ]
  },
  {
   "cell_type": "markdown",
   "metadata": {},
   "source": [
    "#### NAIVE BAYES"
   ]
  },
  {
   "cell_type": "code",
   "execution_count": 24,
   "metadata": {},
   "outputs": [
    {
     "name": "stdout",
     "output_type": "stream",
     "text": [
      "Naive Bayes Testing\n",
      "0.8431372549019608\n"
     ]
    },
    {
     "data": {
      "image/png": "[encoded data removed]",
      "text/plain": [
       "<Figure size 720x360 with 1 Axes>"
      ]
     },
     "metadata": {
      "needs_background": "light"
     },
     "output_type": "display_data"
    },
    {
     "name": "stdout",
     "output_type": "stream",
     "text": [
      "              precision    recall  f1-score   support\n",
      "\n",
      "           0       0.75      1.00      0.86        98\n",
      "           1       1.00      0.70      0.82       106\n",
      "\n",
      "   micro avg       0.84      0.84      0.84       204\n",
      "   macro avg       0.88      0.85      0.84       204\n",
      "weighted avg       0.88      0.84      0.84       204\n",
      "\n"
     ]
    }
   ],
   "source": [
    "import matplotlib.pyplot as plt\n",
    "from sklearn.metrics import confusion_matrix,accuracy_score,classification_report\n",
    "from mlxtend.plotting import plot_confusion_matrix\n",
    "\n",
    "cm_nb = confusion_matrix(labels_test,nv_pred_test)\n",
    "cm2_nb = confusion_matrix(labels_train,nv_pred_train)\n",
    "\n",
    "cr_nb=classification_report(labels_test,nv_pred_test)\n",
    "cr2_nb=classification_report(labels_train,nv_pred_train)\n",
    "\n",
    "#print(cm)\n",
    "#print(cm2)\n",
    "\n",
    "\n",
    "\n",
    "\n",
    "#print(\"Naive Bayes Training\")\n",
    "#nb_train_score=accuracy_score(labels_train,nv_pred_train)\n",
    "#print(nb_train_score)\n",
    "#fig2nb, ax2nb = plot_confusion_matrix(cm2_nb ,  figsize=(10, 5))\n",
    "#plt.show()\n",
    "#print(cr2_nb)\n",
    "\n",
    "print(\"Naive Bayes Testing\")\n",
    "nb_test_score=accuracy_score(labels_test,nv_pred_test)\n",
    "print(nb_test_score)\n",
    "fignb, axnb = plot_confusion_matrix(cm_nb,  figsize=(10, 5))\n",
    "plt.show()\n",
    "print(cr_nb)"
   ]
  },
  {
   "cell_type": "markdown",
   "metadata": {},
   "source": [
    "#### LOGISTIC REGRESSION"
   ]
  },
  {
   "cell_type": "code",
   "execution_count": 25,
   "metadata": {},
   "outputs": [
    {
     "name": "stdout",
     "output_type": "stream",
     "text": [
      "Logistic Regression Testing\n",
      "0.9509803921568627\n"
     ]
    },
    {
     "data": {
      "image/png": "[encoded data removed]",
      "text/plain": [
       "<Figure size 720x360 with 1 Axes>"
      ]
     },
     "metadata": {
      "needs_background": "light"
     },
     "output_type": "display_data"
    },
    {
     "name": "stdout",
     "output_type": "stream",
     "text": [
      "              precision    recall  f1-score   support\n",
      "\n",
      "           0       0.94      0.96      0.95        98\n",
      "           1       0.96      0.94      0.95       106\n",
      "\n",
      "   micro avg       0.95      0.95      0.95       204\n",
      "   macro avg       0.95      0.95      0.95       204\n",
      "weighted avg       0.95      0.95      0.95       204\n",
      "\n"
     ]
    }
   ],
   "source": [
    "import matplotlib.pyplot as plt\n",
    "from sklearn.metrics import confusion_matrix,accuracy_score,classification_report\n",
    "from mlxtend.plotting import plot_confusion_matrix\n",
    "\n",
    "cm_lr = confusion_matrix(labels_test,lr_pred_test)\n",
    "cm2_lr = confusion_matrix(labels_train,lr_pred_train)\n",
    "\n",
    "cr_lr=classification_report(labels_test,lr_pred_test)\n",
    "cr2_lr=classification_report(labels_train,lr_pred_train)\n",
    "\n",
    "#print(cm)\n",
    "#print(cm2)\n",
    "\n",
    "\n",
    "\n",
    "\n",
    "#print(\"Logistic Regression Training\")\n",
    "#lr_train_score=accuracy_score(labels_train,lr_pred_train)\n",
    "#print(lr_train_score)\n",
    "#fig2lr, ax2lr = plot_confusion_matrix(cm2_lr ,  figsize=(10, 5))\n",
    "#plt.show()\n",
    "#print(cr2_lr)\n",
    "\n",
    "print(\"Logistic Regression Testing\")\n",
    "lr_test_score=accuracy_score(labels_test,lr_pred_test)\n",
    "print(lr_test_score)\n",
    "figlr, axlr = plot_confusion_matrix(cm_lr,  figsize=(10, 5))\n",
    "plt.show()\n",
    "print(cr_lr)"
   ]
  },
  {
   "cell_type": "markdown",
   "metadata": {},
   "source": [
    "## Saving the predicted class into respective files"
   ]
  },
  {
   "cell_type": "code",
   "execution_count": 26,
   "metadata": {},
   "outputs": [],
   "source": [
    "np.savetxt(\"DecisionTreepredictionTest.txt\",pred_label_test)\n",
    "np.savetxt(\"DecisionTreepredictionTrain.txt\",pred_label_train)\n",
    "np.savetxt(\"DecisionTreepredictionReal.txt\",real_pred_label)\n",
    "\n",
    "np.savetxt(\"RFpredictionTest.txt\",prediction_label_test)\n",
    "np.savetxt(\"RFpredictionTrain.txt\",prediction_label_train)\n",
    "np.savetxt(\"RFpredictionReal.txt\",real_pred_label_r)\n",
    "\n",
    "np.savetxt(\"NBpredictionTest.txt\",nv_pred_test)\n",
    "np.savetxt(\"NBpredictionTrain.txt\",nv_pred_train)\n",
    "np.savetxt(\"NBpredictionReal.txt\",nv_pred_real)\n",
    "\n",
    "np.savetxt(\"LRpredictionTest.txt\",lr_pred_test)\n",
    "np.savetxt(\"LRpredictionTrain.txt\",lr_pred_train)\n",
    "np.savetxt(\"LRpredictionReal.txt\",lr_pred_real)"
   ]
  },
  {
   "cell_type": "markdown",
   "metadata": {},
   "source": [
    "# Comparative study"
   ]
  },
  {
   "cell_type": "markdown",
   "metadata": {},
   "source": []
  },
  {
   "cell_type": "code",
   "execution_count": 27,
   "metadata": {},
   "outputs": [],
   "source": [
    "#scores_train = [dt_train_score,rf_train_score,lr_train_score,nb_train_score]\n",
    "#algorithms = [\"Decision Tree\",\"Random forest tree\",\"Logistic Regression\",\"Naive Bayes\"]  \n",
    "\n",
    "#import seaborn as sns\n",
    "\n",
    "#sns.set(rc={'figure.figsize':(7,8)})\n",
    "\n",
    "#plt.xlabel(\"Algorithms\")\n",
    "#plt.ylabel(\"Training Accuracy score\")\n",
    "\n",
    "#sns.barplot(algorithms,scores_train)"
   ]
  },
  {
   "cell_type": "markdown",
   "metadata": {},
   "source": [
    "### TESTING"
   ]
  },
  {
   "cell_type": "code",
   "execution_count": 32,
   "metadata": {},
   "outputs": [
    {
     "data": {
      "text/plain": [
       "<matplotlib.axes._subplots.AxesSubplot at 0xb95b3c8>"
      ]
     },
     "execution_count": 32,
     "metadata": {},
     "output_type": "execute_result"
    },
    {
     "data": {
      "image/png": "[encoded data removed]",
      "text/plain": [
       "<Figure size 576x648 with 1 Axes>"
      ]
     },
     "metadata": {},
     "output_type": "display_data"
    }
   ],
   "source": [
    "scores_test = [dt_test_score,rf_test_score,lr_test_score,nb_test_score]\n",
    "algorithms = [\"Decision Tree\",\"Random forest tree\",\"Logistic Regression\",\"Naive Bayes\"]  \n",
    "\n",
    "import seaborn as sns\n",
    "\n",
    "sns.set(rc={'figure.figsize':(8,9)})\n",
    "\n",
    "plt.xlabel(\"Algorithms\")\n",
    "plt.ylabel(\"Testing Accuracy score\")\n",
    "\n",
    "sns.barplot(algorithms,scores_test)"
   ]
  },
  {
   "cell_type": "code",
   "execution_count": null,
   "metadata": {},
   "outputs": [],
   "source": []
  },
  {
   "cell_type": "code",
   "execution_count": null,
   "metadata": {},
   "outputs": [],
   "source": []
  },
  {
   "cell_type": "code",
   "execution_count": null,
   "metadata": {},
   "outputs": [],
   "source": []
  },
  {
   "cell_type": "code",
   "execution_count": null,
   "metadata": {},
   "outputs": [],
   "source": []
  }
 ],
 "metadata": {
  "kernelspec": {
   "display_name": "Python 3",
   "language": "python",
   "name": "python3"
  },
  "language_info": {
   "codemirror_mode": {
    "name": "ipython",
    "version": 3
   },
   "file_extension": ".py",
   "mimetype": "text/x-python",
   "name": "python",
   "nbconvert_exporter": "python",
   "pygments_lexer": "ipython3",
   "version": "3.7.0"
  }
 },
 "nbformat": 4,
 "nbformat_minor": 2
}
